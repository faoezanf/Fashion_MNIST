{
 "cells": [
  {
   "cell_type": "markdown",
   "metadata": {},
   "source": [
    "# FASHION MNIST ( UTS Sistem Pengenalan CLO2)"
   ]
  },
  {
   "cell_type": "markdown",
   "metadata": {},
   "source": [
    "<b> Fauzan Firdaus - 1301164317 - ICM-39GAB </b>"
   ]
  },
  {
   "cell_type": "markdown",
   "metadata": {},
   "source": [
    "<b>Classifier Yang Digunakan : Random Forest </b>"
   ]
  },
  {
   "cell_type": "markdown",
   "metadata": {},
   "source": [
    "Berikut adalah jawaban UTS CLO2 Sistem Pengenalan dengan tujuan membuat sistem klasifikasi citra fashion berbasis supervised learning. Pertama-tama, yang harus dilakukan adalah mengimport semua library yang akan dibutuhkan pada program ini, yaitu sebagai berikut :"
   ]
  },
  {
   "cell_type": "code",
   "execution_count": 1,
   "metadata": {},
   "outputs": [],
   "source": [
    "import numpy as np\n",
    "import os\n",
    "import cv2\n",
    "import glob\n",
    "from sklearn.metrics import accuracy_score\n",
    "from sklearn.ensemble import RandomForestClassifier\n",
    "from skimage.transform import resize\n",
    "from skimage.io import imread"
   ]
  },
  {
   "cell_type": "markdown",
   "metadata": {},
   "source": [
    "Hal yang harus dilakukan selanjutnya adalah meload dataset. Maka dari itu, berikut adalah function untuk me-load dataset berextensi gzip (dari fashion mnist)."
   ]
  },
  {
   "cell_type": "code",
   "execution_count": 2,
   "metadata": {},
   "outputs": [],
   "source": [
    "def load_mnist(path, kind='train'):\n",
    "    import os\n",
    "    import gzip\n",
    "    import numpy as np\n",
    "\n",
    "    \"\"\"Load MNIST data from `path`\"\"\"\n",
    "    labels_path = os.path.join(path,\n",
    "                               '%s-labels-idx1-ubyte.gz'\n",
    "                               % kind)\n",
    "    images_path = os.path.join(path,\n",
    "                               '%s-images-idx3-ubyte.gz'\n",
    "                               % kind)\n",
    "\n",
    "    with gzip.open(labels_path, 'rb') as lbpath:\n",
    "        labels = np.frombuffer(lbpath.read(), dtype=np.uint8,\n",
    "                               offset=8)\n",
    "\n",
    "    with gzip.open(images_path, 'rb') as imgpath:\n",
    "        images = np.frombuffer(imgpath.read(), dtype=np.uint8,\n",
    "                               offset=16).reshape(len(labels), 784)\n",
    "\n",
    "    return images, labels"
   ]
  },
  {
   "cell_type": "markdown",
   "metadata": {},
   "source": [
    "Kemudian, load data train dan data test nya kedalam variabel berikut ini:"
   ]
  },
  {
   "cell_type": "code",
   "execution_count": 3,
   "metadata": {},
   "outputs": [],
   "source": [
    "X_train, y_train = load_mnist('data/fashion', kind='train') # Load data train\n",
    "X_test, y_test = load_mnist('data/fashion', kind='t10k') # Load data test"
   ]
  },
  {
   "cell_type": "markdown",
   "metadata": {},
   "source": [
    "Berikut ini adalah jawaban dari nomor 1. Dengan classifiernya random forest, didapatkan akurasi sebesar 87.6 seperti yang tertera dibawah ini."
   ]
  },
  {
   "cell_type": "code",
   "execution_count": 4,
   "metadata": {},
   "outputs": [
    {
     "name": "stdout",
     "output_type": "stream",
     "text": [
      "Akurasi : 87.6\n"
     ]
    }
   ],
   "source": [
    "clf = RandomForestClassifier(n_estimators=100, random_state=42) # menginisialisasi classifier\n",
    "clf.fit(X_train, y_train) # Membangun X_train dan melabelinya serta melakukan proses learning\n",
    "result = clf.predict(X_test) # Memprediksi label yang akan didapatkan\n",
    "print(\"Akurasi :\", accuracy_score(y_test, result) * 100) # Mencetak akurasi ke layar"
   ]
  },
  {
   "cell_type": "markdown",
   "metadata": {},
   "source": [
    "Dibawah ini adalah program nomor 2."
   ]
  },
  {
   "cell_type": "markdown",
   "metadata": {},
   "source": [
    "Hal yang pertama dilakukan adalah menyusun / membuat function yang akan dibutuhkan. Function yang pertama adalah loadimage(). Function ini dibutuhkan untuk meload data test yang ada di lokal komputer. Mekanisme dari function ini adalah untuk menyimpan gambar-gambar yang ada ke dalam sebuah variabel, lalu menyimpan labelnya sesuai nama folder dari masing-masing objeknya."
   ]
  },
  {
   "cell_type": "code",
   "execution_count": 5,
   "metadata": {},
   "outputs": [],
   "source": [
    "def loadimage(arr,labelobject):\n",
    "    label=[] # array label\n",
    "    newarr=[] # array image\n",
    "    strr = \"datauji/\"+str(labelobject)+\"/*.jpg\" \n",
    "    for file in glob.glob(strr): # perulangan selama banyaknya file\n",
    "        im = cv2.imread(file,0) # read gambar dan set ke variabel im\n",
    "        resize=cv2.resize(im, (28,28)) # resize image menjadi 28x28 pixel\n",
    "        imagem=cv2.bitwise_not(resize) # invers gambar\n",
    "        newarr.append(imagem) # tambah elemen baru kedalam array gambar\n",
    "        label.append(int(labelobject)) # tambah elemen baru kedalam array label gambar\n",
    "    return newarr,label # mengembalikan/return array gambar dan labelnya"
   ]
  },
  {
   "cell_type": "markdown",
   "metadata": {},
   "source": [
    "Lalu yang perlu dilakukan selanjutnya adalah membuat function normalize(). Function ini bertujuan untuk mereshape / mernomalisasi array gambar menjadi array yang bentuknya menjadi sama seperti array yang ada di data train."
   ]
  },
  {
   "cell_type": "code",
   "execution_count": 6,
   "metadata": {},
   "outputs": [],
   "source": [
    "def normalize(arr):\n",
    "    arr = np.asarray(arr) # mengeset list menjadi array\n",
    "    nsamples,nx,ny=arr.shape # mengeset jumlah baris kedalam nsamples, dan jumlah kolom nya dalam nx dan ny\n",
    "    arr = arr.reshape((nsamples,nx*ny)) # mengeset array baru dengan baris sebanyak nsamples, dan kolom sebanyak nx*ny\n",
    "    return arr # mengembalikan / return array yang baru"
   ]
  },
  {
   "cell_type": "markdown",
   "metadata": {},
   "source": [
    "Berikut adalah kode program untuk soal nomor 2. Dibawah ini, terdapat syntax untuk menginisialisasi array yang akan dibutuhkan untuk masing-masing objek. Setelah itu, me-load dataset oleh function loadimage() dan memasukkannya ke dalam array yang sudah dibuat tadi."
   ]
  },
  {
   "cell_type": "code",
   "execution_count": 7,
   "metadata": {},
   "outputs": [],
   "source": [
    "# 11 baris kebawah adalah untuk menginisialisasi array gambar\n",
    "tshirt = []\n",
    "trouser = []\n",
    "pullover = []\n",
    "dress = []\n",
    "coat = []\n",
    "sandal = []\n",
    "shirt = []\n",
    "sneaker = []\n",
    "bag = []\n",
    "ankleboot = []\n",
    "nonfashion = []\n",
    "\n",
    "# 11 baris kebawah adalah untuk me-load dataset\n",
    "tshirt,label_tshirt = loadimage(tshirt,'0')\n",
    "trouser,label_trouser = loadimage(trouser,'1')\n",
    "pullover,label_pullover = loadimage(pullover,'2')\n",
    "dress,label_dress = loadimage(dress,'3')\n",
    "coat,label_coat = loadimage(coat,'4')\n",
    "sandal,label_sandal = loadimage(sandal,'5')\n",
    "shirt,label_shirt = loadimage(shirt,'6')\n",
    "sneaker,label_sneaker = loadimage(sneaker,'7')\n",
    "bag,label_bag = loadimage(bag,'8')\n",
    "ankleboot,label_ankleboot = loadimage(ankleboot,'9')\n",
    "nonfashion,label_nonfashion = loadimage(nonfashion,'10')"
   ]
  },
  {
   "cell_type": "markdown",
   "metadata": {},
   "source": [
    "Dibawah ini dalah tahap dari normalisasi / mereshape array gambar menjadi array yang bentuknya menjadi sama seperti array yang ada di data train."
   ]
  },
  {
   "cell_type": "code",
   "execution_count": 8,
   "metadata": {},
   "outputs": [],
   "source": [
    "# tahap normalisasi array / memanggil function normalize untuk menormalisasi array.\n",
    "tshirt = normalize(tshirt)\n",
    "trouser = normalize(trouser)\n",
    "pullover = normalize(pullover)\n",
    "dress = normalize(dress)\n",
    "coat = normalize(coat)\n",
    "sandal = normalize(sandal)\n",
    "shirt = normalize(shirt)\n",
    "sneaker = normalize(sneaker)\n",
    "bag = normalize(bag)\n",
    "ankleboot = normalize(ankleboot)\n",
    "nonfashion = normalize(nonfashion)"
   ]
  },
  {
   "cell_type": "markdown",
   "metadata": {},
   "source": [
    "Dibawah ini adalah tahap konket / penyatuan / penggabungan semua objek dari array gambar tadi yang telah dibuat dan disatukan menjadi satu kesatuan data test, yang disimpan dalam variabel X_test2. Variabel y_test2 adalah array yang berisi gabungan label yang benar (bukan prediksi)."
   ]
  },
  {
   "cell_type": "code",
   "execution_count": 9,
   "metadata": {},
   "outputs": [],
   "source": [
    "# tahap konket / penggabungan array gambar dan labelnya menjadi masing-masing 1 variabel khusus, yaitu X_test2 dan y_test2\n",
    "X_test2 = np.concatenate((tshirt,trouser,pullover,dress,coat,sandal,shirt,sneaker,bag,ankleboot,nonfashion))\n",
    "y_test2 = np.concatenate((label_tshirt, label_trouser, label_pullover,\n",
    "                          label_dress, label_coat, label_sandal, label_shirt, label_sneaker, \n",
    "                          label_bag, label_ankleboot, label_nonfashion))"
   ]
  },
  {
   "cell_type": "markdown",
   "metadata": {},
   "source": [
    "Dalam data train dari fashion mnist, tidak ada citra yang berjenis non-fashion, maka dari itu pengambilan keputusan label tidak berdasarkan label yang ada pada data train saja, hal ini dikarenakan label yang ada hanya 0-9 saja. Maka dari itu saya mengeset label baru untuk non-fashion yaitu dengan label '10'. Lalu bagaimana untuk pengesetan label nya? \n",
    "\n",
    "Keterangan data testnya sebagai berikut :\n",
    "- Label 0 -> berjumlah 2 citra\n",
    "- Label 1 -> berjumlah 2 citra\n",
    "- Label 2 -> berjumlah 2 citra\n",
    "- Label 3 -> berjumlah 2 citra\n",
    "- Label 4 -> berjumlah 2 citra\n",
    "- Label 5 -> berjumlah 2 citra\n",
    "- Label 6 -> berjumlah 2 citra\n",
    "- Label 7 -> berjumlah 2 citra\n",
    "- Label 8 -> berjumlah 3 citra\n",
    "- Label 9 -> berjumlah 2 citra\n",
    "- Label 10 -> jumlah citra ada 10\n",
    "\n",
    "Citra tersimpan secara berurutan di variabel X_test2, maka dari itu diketahui index 21-30 adalah citra non-fashion. Oleh karena itu, prediksi yang dilakukan berbeda ketika di indeks 21 sampai selesai, karena citra tersebut merupakan citra non-fashion. Pada indeks 1-20, result menyimpan hasil prediksi berdasarkan pembelajaran / learning yang sudah didapatkan. Lalu, apa yang terjadi ketika index 21-30? Pada indeks tersebut, terdapat pengecekan apakah probabilitas dari semua kemungkinan label yang telah didapatkan ada yang lebih dari 0.5. Jika ada, maka hasilnya akan berdasarkan label hasil prediksi (hasil learning yang didapatkan), jika tidak, akan langsung di set labelnya menjadi '10' karena sudah dikenali sebagai citra non-fashion.\n",
    "\n",
    "Hasil program menunjukkan akurasi sebesar 96.77%."
   ]
  },
  {
   "cell_type": "code",
   "execution_count": 10,
   "metadata": {},
   "outputs": [
    {
     "name": "stdout",
     "output_type": "stream",
     "text": [
      "Akurasi : 96.7741935483871\n"
     ]
    }
   ],
   "source": [
    "pred = clf.predict(X_test2) # mencari prediksi dari array gambar X_test2\n",
    "prob = clf.predict_proba(X_test2) # meng-get nilai probabilistik dari setiap kemungkinan label pada data test\n",
    "result = [] # variabel yang menyimpan jawaban / tebakan label gambar\n",
    "for i in range(len(pred)): # perulangan selama hasil prediksi\n",
    "    if i>20: # masuk kondisi ketika i mulai dari 21, karena citra non-fashion dimulai pada gambar ke 21-30\n",
    "        if prob[i].all()<0.5: # mengecek apakah nilai probabilistik lebih dari 0.5\n",
    "            result.append(10) # mengeset label dengan 10 / label non fashion\n",
    "    else:\n",
    "        result.append(pred[i]) # mengeset label sesuai hasil prediksi\n",
    "print(\"Akurasi :\", accuracy_score(y_test2, result)*100) # menampilkan akurasi ke layar"
   ]
  },
  {
   "cell_type": "markdown",
   "metadata": {},
   "source": [
    "Untuk keterangan label lebih lengkapnya, berikut adalah label hasil prediksinya."
   ]
  },
  {
   "cell_type": "code",
   "execution_count": 11,
   "metadata": {},
   "outputs": [
    {
     "data": {
      "text/plain": [
       "array([ 0,  0,  1,  1,  2,  2,  3,  3,  4,  4,  5,  5,  6,  6,  8,  7,  8,\n",
       "        8,  8,  9,  9, 10, 10, 10, 10, 10, 10, 10, 10, 10, 10])"
      ]
     },
     "execution_count": 11,
     "metadata": {},
     "output_type": "execute_result"
    }
   ],
   "source": [
    "result = np.asarray(result) # mengeset list menjadi array\n",
    "result.flatten() # membuat tampilan array menjadi 1 baris"
   ]
  }
 ],
 "metadata": {
  "kernelspec": {
   "display_name": "Python 3",
   "language": "python",
   "name": "python3"
  },
  "language_info": {
   "codemirror_mode": {
    "name": "ipython",
    "version": 3
   },
   "file_extension": ".py",
   "mimetype": "text/x-python",
   "name": "python",
   "nbconvert_exporter": "python",
   "pygments_lexer": "ipython3",
   "version": "3.7.1"
  }
 },
 "nbformat": 4,
 "nbformat_minor": 2
}
